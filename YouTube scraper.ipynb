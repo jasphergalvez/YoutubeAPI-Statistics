{
 "cells": [
  {
   "cell_type": "markdown",
   "id": "e360f315",
   "metadata": {},
   "source": [
    "# Requires reference list dataset to iterate through channel IDs"
   ]
  },
  {
   "cell_type": "markdown",
   "id": "32ab0ce8",
   "metadata": {},
   "source": [
    "dataset = https://www.kaggle.com/datasets/bhavyadhingra00020/top-100-social-media-influencers-2024-countrywise?resource=download"
   ]
  },
  {
   "cell_type": "markdown",
   "id": "b47cd7a6",
   "metadata": {},
   "source": [
    "dataset_path = [insert here path of dataset reference]\n",
    "\n",
    "for reference, the current dataset_path is the top 100 influencers' data"
   ]
  },
  {
   "cell_type": "code",
   "execution_count": 150,
   "id": "7f314a7d",
   "metadata": {},
   "outputs": [],
   "source": [
    "## IMPORT FUNCTIONS\n",
    "\n",
    "import os\n",
    "import pandas as pd\n",
    "import google_auth_oauthlib.flow\n",
    "import googleapiclient.discovery\n",
    "import googleapiclient.errors\n",
    "from IPython.display import JSON\n",
    "from selenium import webdriver\n",
    "from selenium.webdriver.common.by import By\n",
    "from selenium.webdriver.common.keys import Keys\n",
    "import time"
   ]
  },
  {
   "cell_type": "code",
   "execution_count": 151,
   "id": "266136ed",
   "metadata": {},
   "outputs": [],
   "source": [
    "## GLOBAL VARIABLES HERE\n",
    "\n",
    "api_key = {API_KEY}\n",
    "output_path = {output_path}\n",
    "chromedriver_path = {chromedriver_path}\n",
    "dataset_path = {dataset_path}"
   ]
  },
  {
   "cell_type": "markdown",
   "id": "67896c21",
   "metadata": {},
   "source": [
    "# Selenium - Channel Username -> Channel ID converter\n",
    "\n",
    "URL: https://www.streamweasels.com/tools/youtube-channel-id-and-user-id-convertor/\n",
    "*all source code belongs to them, I accessed the site using selenium automation.\n",
    "\n",
    "\n",
    "this was necessary due to the new limitation (or bug) in the youtube api v3, where custom urls (e.g. @xxx) is unable to locate the items when iterating through using API which leads to runtime errors; do note, however, that this is not foolproof as there are some deleted sites and unsearchable sites, so this is just a workaround for automation"
   ]
  },
  {
   "cell_type": "code",
   "execution_count": 130,
   "id": "1177fb59",
   "metadata": {},
   "outputs": [],
   "source": [
    "## FUNCTION USES STREAMWEASEL'S SITE (WHICH USES YOUTUBE API) TO OBTAIN CHANNEL ID\n",
    "def get_channel_id(username):\n",
    "    cService = webdriver.ChromeService(executable_path=chromedriver_path)\n",
    "    driver = webdriver.Chrome(service = cService)\n",
    "\n",
    "    driver.get(\"https://www.streamweasels.com/tools/youtube-channel-id-and-user-id-convertor/\")  #access the site\n",
    "\n",
    "    channel_name = driver.find_element(By.CLASS_NAME, \"cp-youtube-to-id__target\")    #access the channel name DOM\n",
    "    channel_name.send_keys(username)                                                 #input the custom channel username\n",
    "    convert = driver.find_element(By.CLASS_NAME, \"cp-youtube-to-id__submit\")         #access the form submission DOM\n",
    "    convert.click()                                                                  #convert to ID\n",
    "    time.sleep(5)                                                                    # delay for 5s to give enough time for form to load otherwise returns '-'\n",
    "    result = driver.find_element(By.CLASS_NAME, \"cp-youtube-to-id__result\")\n",
    "    if result.text == '-':                                                           # '-' is the default, it also means ID not found or Account is deleted\n",
    "        return 'pass'                                                                # if '-' then return 'pass' to input a null set when iterating in channel_id list\n",
    "    else:\n",
    "        return result.text\n",
    "    driver.close()                                                                   # close the driver to avoid overlap"
   ]
  },
  {
   "cell_type": "code",
   "execution_count": 131,
   "id": "eabb0c20",
   "metadata": {},
   "outputs": [],
   "source": [
    "## INITIALIZE API\n",
    "\n",
    "api_service_name = \"youtube\"\n",
    "api_version = \"v3\"\n",
    "\n",
    "youtube = googleapiclient.discovery.build(\n",
    "    api_service_name, api_version, developerKey=api_key)"
   ]
  },
  {
   "cell_type": "code",
   "execution_count": 136,
   "id": "10f68f6d",
   "metadata": {},
   "outputs": [],
   "source": [
    "## define functions\n",
    "\n",
    "def to_csv(df, output_path):                         #saves to csv\n",
    "    df.to_csv(output_path, index = True)\n",
    "\n",
    "all_data = []\n",
    "\n",
    "def get_channel_stats(youtube, channel_ids):         # scrapes specific data from Channel ID using youtube api and appends to all_data\n",
    "    \n",
    "    request = youtube.channels().list(\n",
    "        part=\"snippet,contentDetails,statistics\",\n",
    "        id=channel_ids\n",
    "        )\n",
    "        \n",
    "    response = request.execute()\n",
    "    \n",
    "    for item in response['items']:\n",
    "        data = {\n",
    "            'channelName': item['snippet']['title'],\n",
    "            'subscribers': item['statistics']['subscriberCount'],\n",
    "            'views': item['statistics']['viewCount'],\n",
    "            'totalVideos': item['statistics']['videoCount'],\n",
    "            'playlistId': item['contentDetails']['relatedPlaylists']['uploads']\n",
    "        }\n",
    "        \n",
    "        all_data.append(data)\n",
    "        \n",
    "        return()"
   ]
  },
  {
   "cell_type": "code",
   "execution_count": 133,
   "id": "95770e74",
   "metadata": {},
   "outputs": [
    {
     "name": "stdout",
     "output_type": "stream",
     "text": [
      "['UCq-Fj5jknLsUf-MWSy4_brA', 'UCbCmjCuTUZos6Inko4u57UQ', 'UCpEhnqL0y41EpW2TvWAHD7Q', 'UC-lHJZR3Gqxm24_Vd_AJ5Yw', 'UCX6OQ3DkcsbYNE6H8uQQuVA', 'UCJplp5SjeGSdVdwsfb9Q7lQ', 'UCk8GzjMOrta8yxDcKfylJYw', 'UCFFbwnve3yF62-tVXkTyHqg', 'UCJ5v_MCY6GNUBTO8-D3XoAg', 'UCvlE5gTbOvjiolFlEm-c_Ow', 'UCOmHUn--16B90oW2L6FRR3A', 'UCyoXW-Dse7fURq30EWl_CUA', 'UCIwFjwMjI0y7PDBVEO9-bkQ', 'UC6-F5tO8uklgE9Zy8IvbdFw', 'UCLkAepWjdylmXSltofFvsYQ', 'UC3IZKseVpdzPSBaWxBxundA', 'UCffDXn7ycAzwL2LDlbyWOTw', 'UCppHT7SZKKvar4Oc9J4oljQ', 'UCP6uH_XlsxrXwZQ4DlqbqPg', 'UC55IWqFLDH1Xp7iu1_xknRA', 'UCBnZ16ahKA2DZ_T5W0FPUXg', 'UCRijo3ddMTht_IHyNSNXpNQ', 'UC3gNmTGu-TTbFPpfSs5kNkg', 'UCcdwLMPsaU2ezNSJU1nFoBQ', 'UCJrDMFOdv1I2k8n9oK_V21w', 'UCEdvpU2pFRCVqU6yIPyTpMQ', 'UC56gTxNs4f9xZ7Pa2i5xNzg', 'UCt4t-jeY85JegMlZ-E5UWtA', 'UCK1i2UviaXLUNrZlAFpw_jA', 'UC0C-w0YjGpqDXGB8IHb662A', 'UC9CoOnJkIBMdeijd9qYoT_g', 'UCfM3zsQsOnfWNUppiycmBuw', 'UCaayLD9i5x4MmIoVZxXSv_g', 'UC4NALVCmcmL5ntpV0thoH6w', 'UCbTLwN10NoCU4WDzLf1JMOA', 'UCqECaJ8Gagnn7YCbPEzWH6g', 'UCV4xOVpbcV8SdueDCOxLXtQ', 'UC1ciY6kR3yj3kaKZ6R7ewAg', 'UCiGm_E4ZwYSHV3bcW1pnSeQ', 'UCYiGq8XF7YQD00x7wAd62Zg', 'UCYWOjHweP2V-8kGKmmAmQJQ', 'UCV306eHqgo0LvBf3Mh36AHg', 'UClZkHt2kNIgyrTTPnSQV3SA', 'UC3KQ5GWANYF8lChqjZpXsQw', 'UC3MLnJtqc_phABBriLRhtgQ', 'UC4rlAVgAK0SGk-yTfe48Qpw', 'UCYvmuw-JtVrTZQ-7Y4kd63Q', 'UCmBA_wu8xGg1OfOkfW13Q0Q', 'UCj0O6W8yDuLg3iraAXKgCrQ', 'UCJrOtniJ0-NWz37R30urifQ', 'UCS94J1s6-qc8v7btCdS2pNg', 'UCj22tfcQrWG7EMEKS0qLeEg', 'UCstEtN0pgOmCf02EdXsGChw', 'UCF1JIbMUs6uqoZEY1Haw0GQ', 'UCOsyDsO5tIt-VZ1iwjdQmew', 'UCXazgXDIYyWH-yXLAkcrFxw', 'UCKAqou7V9FAWXpZd9xtOg3Q', 'UCJg19noZp7-BYIGvypu_cow', 'UCRv76wLBC73jiP7LX4C3l8Q', 'UC_gV70G_Y51LTa3qhu8KiEA', 'UCECJDeK0MNapZbpaOzxrUPA', 'UCWi_65E_L8tQZ34C6wVAlpQ', 'UCp0hYYBW6IMayGgR-WeoCvQ', 'UCgFXm4TI8htWmCyJ6cVPG_A', 'UCQZfFRohQ7UX-0CdXl-6pwQ', 'UC3ZkCd7XtUREnjjt3cyY_gg', 'UCM9r1xn6s30OnlJWb-jc3Sw', 'UCLsooMJoIpl_7ux2jvdPB-Q', 'UCYLNGLIzMhRTi6ZOLjAPSmw', 'UCNUQK9mQoqi4yNXw2_Rj6SA', 'UC9TO_oo4c_LrOiKNaY6aysA', 'UCwHE1kM1CPJd_pI9FQ0-4dg', 'UC8f7MkX4MFOOJ2SerXLInCA', 'UCQ7x25F6YXY9DvGeHFxLhRQ', 'UCtW7qWjpCZ8zps-Cf2NF26w', 'UCsT0YIqwnpJCM-mx7-gSA4Q', 'UCjIA3wwhi0QjSOXAZwOXbPA', 'UCu59yAFE8fM0sVNTipR4edw', 'UCoUM-UJ7rirJYP8CQ0EIaHA', 'UC5tuYcCdiKuF5Y2ZonuarwA', 'UCKe6w0exI94U-RzqAyoY1VA', 'UCcvNYxWXR_5TjVK7cSCdW-g', 'UC5c9VlYTSvBSCaoMu_GI6gQ', 'UCt-k6JwNWHMXDBGm9IYHdsg', 'UCRWFSbif-RFENbBrSiez1DA', 'UCam8T03EOFBsNdR0thrFHdQ', 'UC7_YxT-KID8kRbqZo7MyscQ', 'UCLtNvbkqea8wN_kGtfgx_Mw', 'UC_aEa8K-EOJ3D6gOs7HcyNg', 'UClZF7OsrECe3t_ADrjZEh_Q', 'UChGJGhZ9SOOHvBB0Y4DOO_w', 'UCRm96I5kmb_iGFofE5N691w', 'UCw7xjxzbMwgBSmbeYwqYRMg', 'UCpEJRZdSpdVZ8vh63T9I2KQ', 'UCwpcLKMwiuPg4aqImpGk6Ew', 'UCd5ApCORQsMOZZz5E9oVeFA', 'UCqJ5zFEED1hWs0KNQCQuYdQ', 'UC_A7K2dXFsTMAciGmnNxy-Q']\n"
     ]
    }
   ],
   "source": [
    "## EXTRACT THE CHANNEL IDS FROM THE REFERENCE DATASET. \n",
    "## channel_id_list is then passed on to the get_channel_stats function through iteration to append each channel id's stats into staging list\n",
    "\n",
    "channel_id_list = []                            # staging list to be transformed to dataframe\n",
    "\n",
    "df = pd.read_csv(dataset_path)\n",
    "channel_ids = df['NAME'].str.split('@').str[-1].unique()\n",
    "\n",
    "for i in channel_ids:\n",
    "    if i.startswith('U',0,1) == False:\n",
    "        temp_result = get_channel_id(i)\n",
    "        if temp_result == 'pass':                 #if 'pass' then the username couldn't be converted to channel id (which means it might be deleted or unsearchable)\n",
    "            pass                                  #input nothing\n",
    "        else:\n",
    "            channel_id_list.append(temp_result)\n",
    "    else:\n",
    "        channel_id_list.append(i)"
   ]
  },
  {
   "cell_type": "code",
   "execution_count": 138,
   "id": "dd3edfa5",
   "metadata": {},
   "outputs": [],
   "source": [
    "## iterates through channel_id_list and retrieves stats for each\n",
    "for channel_id in channel_id_list:\n",
    "    get_channel_stats(youtube, channel_id)"
   ]
  },
  {
   "cell_type": "code",
   "execution_count": 144,
   "id": "aa498a28",
   "metadata": {},
   "outputs": [],
   "source": [
    "## transforms the staging list into a dataframe\n",
    "df1 = pd.DataFrame(all_data)"
   ]
  },
  {
   "cell_type": "code",
   "execution_count": 148,
   "id": "4227e36f",
   "metadata": {},
   "outputs": [],
   "source": [
    "## standardizes the index to be used as primary key for SQL querying\n",
    "df1.index = df1.index + 1"
   ]
  },
  {
   "cell_type": "code",
   "execution_count": 149,
   "id": "816ee264",
   "metadata": {},
   "outputs": [
    {
     "data": {
      "text/html": [
       "<div>\n",
       "<style scoped>\n",
       "    .dataframe tbody tr th:only-of-type {\n",
       "        vertical-align: middle;\n",
       "    }\n",
       "\n",
       "    .dataframe tbody tr th {\n",
       "        vertical-align: top;\n",
       "    }\n",
       "\n",
       "    .dataframe thead th {\n",
       "        text-align: right;\n",
       "    }\n",
       "</style>\n",
       "<table border=\"1\" class=\"dataframe\">\n",
       "  <thead>\n",
       "    <tr style=\"text-align: right;\">\n",
       "      <th></th>\n",
       "      <th>channelName</th>\n",
       "      <th>subscribers</th>\n",
       "      <th>views</th>\n",
       "      <th>totalVideos</th>\n",
       "      <th>playlistId</th>\n",
       "    </tr>\n",
       "  </thead>\n",
       "  <tbody>\n",
       "    <tr>\n",
       "      <th>1</th>\n",
       "      <td>T-Series</td>\n",
       "      <td>272000000</td>\n",
       "      <td>264367318565</td>\n",
       "      <td>21599</td>\n",
       "      <td>UUq-Fj5jknLsUf-MWSy4_brA</td>\n",
       "    </tr>\n",
       "    <tr>\n",
       "      <th>2</th>\n",
       "      <td>Cocomelon - Nursery Rhymes</td>\n",
       "      <td>181000000</td>\n",
       "      <td>186629925185</td>\n",
       "      <td>1251</td>\n",
       "      <td>UUbCmjCuTUZos6Inko4u57UQ</td>\n",
       "    </tr>\n",
       "    <tr>\n",
       "      <th>3</th>\n",
       "      <td>SET India</td>\n",
       "      <td>177000000</td>\n",
       "      <td>169185607582</td>\n",
       "      <td>143344</td>\n",
       "      <td>UUpEhnqL0y41EpW2TvWAHD7Q</td>\n",
       "    </tr>\n",
       "    <tr>\n",
       "      <th>4</th>\n",
       "      <td>PewDiePie</td>\n",
       "      <td>111000000</td>\n",
       "      <td>29384161123</td>\n",
       "      <td>4782</td>\n",
       "      <td>UU-lHJZR3Gqxm24_Vd_AJ5Yw</td>\n",
       "    </tr>\n",
       "    <tr>\n",
       "      <th>5</th>\n",
       "      <td>MrBeast</td>\n",
       "      <td>312000000</td>\n",
       "      <td>57598316688</td>\n",
       "      <td>812</td>\n",
       "      <td>UUX6OQ3DkcsbYNE6H8uQQuVA</td>\n",
       "    </tr>\n",
       "    <tr>\n",
       "      <th>...</th>\n",
       "      <td>...</td>\n",
       "      <td>...</td>\n",
       "      <td>...</td>\n",
       "      <td>...</td>\n",
       "      <td>...</td>\n",
       "    </tr>\n",
       "    <tr>\n",
       "      <th>94</th>\n",
       "      <td>Like Nastya ESP</td>\n",
       "      <td>40900000</td>\n",
       "      <td>20374474891</td>\n",
       "      <td>881</td>\n",
       "      <td>UUpEJRZdSpdVZ8vh63T9I2KQ</td>\n",
       "    </tr>\n",
       "    <tr>\n",
       "      <th>95</th>\n",
       "      <td>La Granja de Zenón</td>\n",
       "      <td>40900000</td>\n",
       "      <td>32327424301</td>\n",
       "      <td>787</td>\n",
       "      <td>UUwpcLKMwiuPg4aqImpGk6Ew</td>\n",
       "    </tr>\n",
       "    <tr>\n",
       "      <th>96</th>\n",
       "      <td>Alfredo Larin</td>\n",
       "      <td>41800000</td>\n",
       "      <td>34008037143</td>\n",
       "      <td>1836</td>\n",
       "      <td>UUd5ApCORQsMOZZz5E9oVeFA</td>\n",
       "    </tr>\n",
       "    <tr>\n",
       "      <th>97</th>\n",
       "      <td>Mikecrack</td>\n",
       "      <td>51900000</td>\n",
       "      <td>19035459543</td>\n",
       "      <td>2049</td>\n",
       "      <td>UUqJ5zFEED1hWs0KNQCQuYdQ</td>\n",
       "    </tr>\n",
       "    <tr>\n",
       "      <th>98</th>\n",
       "      <td>Saregama Music</td>\n",
       "      <td>45000000</td>\n",
       "      <td>21323892578</td>\n",
       "      <td>9194</td>\n",
       "      <td>UU_A7K2dXFsTMAciGmnNxy-Q</td>\n",
       "    </tr>\n",
       "  </tbody>\n",
       "</table>\n",
       "<p>98 rows × 5 columns</p>\n",
       "</div>"
      ],
      "text/plain": [
       "                   channelName subscribers         views totalVideos  \\\n",
       "1                     T-Series   272000000  264367318565       21599   \n",
       "2   Cocomelon - Nursery Rhymes   181000000  186629925185        1251   \n",
       "3                    SET India   177000000  169185607582      143344   \n",
       "4                    PewDiePie   111000000   29384161123        4782   \n",
       "5                      MrBeast   312000000   57598316688         812   \n",
       "..                         ...         ...           ...         ...   \n",
       "94             Like Nastya ESP    40900000   20374474891         881   \n",
       "95          La Granja de Zenón    40900000   32327424301         787   \n",
       "96               Alfredo Larin    41800000   34008037143        1836   \n",
       "97                   Mikecrack    51900000   19035459543        2049   \n",
       "98              Saregama Music    45000000   21323892578        9194   \n",
       "\n",
       "                  playlistId  \n",
       "1   UUq-Fj5jknLsUf-MWSy4_brA  \n",
       "2   UUbCmjCuTUZos6Inko4u57UQ  \n",
       "3   UUpEhnqL0y41EpW2TvWAHD7Q  \n",
       "4   UU-lHJZR3Gqxm24_Vd_AJ5Yw  \n",
       "5   UUX6OQ3DkcsbYNE6H8uQQuVA  \n",
       "..                       ...  \n",
       "94  UUpEJRZdSpdVZ8vh63T9I2KQ  \n",
       "95  UUwpcLKMwiuPg4aqImpGk6Ew  \n",
       "96  UUd5ApCORQsMOZZz5E9oVeFA  \n",
       "97  UUqJ5zFEED1hWs0KNQCQuYdQ  \n",
       "98  UU_A7K2dXFsTMAciGmnNxy-Q  \n",
       "\n",
       "[98 rows x 5 columns]"
      ]
     },
     "execution_count": 149,
     "metadata": {},
     "output_type": "execute_result"
    }
   ],
   "source": [
    "df1"
   ]
  },
  {
   "cell_type": "code",
   "execution_count": null,
   "id": "26efab91",
   "metadata": {},
   "outputs": [],
   "source": [
    "## save to csv with index=True\n",
    "to_csv(df1, output_path)"
   ]
  },
  {
   "cell_type": "code",
   "execution_count": null,
   "id": "e4ad415b",
   "metadata": {},
   "outputs": [],
   "source": [
    "print(\"---- ALL DONE ------\")"
   ]
  }
 ],
 "metadata": {
  "kernelspec": {
   "display_name": "Python 3",
   "language": "python",
   "name": "python3"
  },
  "language_info": {
   "codemirror_mode": {
    "name": "ipython",
    "version": 3
   },
   "file_extension": ".py",
   "mimetype": "text/x-python",
   "name": "python",
   "nbconvert_exporter": "python",
   "pygments_lexer": "ipython3",
   "version": "3.8.8"
  }
 },
 "nbformat": 4,
 "nbformat_minor": 5
}
